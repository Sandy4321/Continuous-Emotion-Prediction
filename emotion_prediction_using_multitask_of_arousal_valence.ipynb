{
 "cells": [
  {
   "cell_type": "markdown",
   "metadata": {},
   "source": [
    "# Here emotion prediction was done using multi tasking of arousal & valence.As arousal & valence are corelated ,it provide a better modelling."
   ]
  },
  {
   "cell_type": "code",
   "execution_count": 1,
   "metadata": {},
   "outputs": [
    {
     "name": "stdout",
     "output_type": "stream",
     "text": [
      "Inside run_baseline.py\n",
      "3\n",
      "argv\n",
      "['c:\\\\users\\\\abhijit\\\\anaconda3\\\\envs\\\\tensorflow-gpu\\\\lib\\\\site-packages\\\\ipykernel_launcher.py', '-f', 'C:\\\\Users\\\\abhijit\\\\AppData\\\\Roaming\\\\jupyter\\\\runtime\\\\kernel-8ab98811-4750-4eb3-818e-b784556a051b.json']\n",
      "delay\n",
      "0.6\n",
      "i am going\n",
      "['Train_01.csv', 'Train_02.csv', 'Train_03.csv', 'Train_04.csv', 'Train_05.csv', 'Train_06.csv', 'Train_07.csv', 'Train_08.csv', 'Train_09.csv', 'Train_10.csv', 'Train_11.csv', 'Train_12.csv', 'Train_13.csv', 'Train_14.csv', 'Train_15.csv', 'Train_16.csv', 'Train_17.csv', 'Train_18.csv', 'Train_19.csv', 'Train_20.csv', 'Train_21.csv', 'Train_22.csv', 'Train_23.csv', 'Train_24.csv', 'Train_25.csv', 'Train_26.csv', 'Train_27.csv', 'Train_28.csv', 'Train_29.csv', 'Train_30.csv', 'Train_31.csv', 'Train_32.csv', 'Train_33.csv', 'Train_34.csv']\n"
     ]
    }
   ],
   "source": [
    "\n",
    "#Loading The Dataset\n",
    "\n",
    "import os\n",
    "import fnmatch\n",
    "import numpy as np\n",
    "\n",
    "from sys     import argv\n",
    "#from sklearn import svm\n",
    "\n",
    "from load_features     import load_all\n",
    "#from calc_scores       import calc_scores\n",
    "#from write_predictions import write_predictions\n",
    "\n",
    "# Set folders here\n",
    "path_test_predictions = \"D:/AVEC_17_Emotion_Sub-Challenge/result/\"\n",
    "b_test_available      = False  # If the test labels are not available, the predictions on test are written into the folder 'path_test_predictions'\n",
    "\n",
    "# Folders wi o_features = \"E:/AVEC_17_Emotion_Sub-Challenge/audio_features_xbow_6s/\"\n",
    "path_audio_features = \"D:/AVEC_17_Emotion_Sub-Challenge/audio_features_xbow_6s/\"\n",
    "path_video_features = \"D:/AVEC_17_Emotion_Sub-Challenge/video_features_xbow_6s/\"\n",
    "path_text_features  = \"D:/AVEC_17_Emotion_Sub-Challenge/text_features_xbow_6s/\"\n",
    "path_labels         = \"D:/AVEC_17_Emotion_Sub-Challenge/labels/\"\n",
    "\n",
    "sr_labels = 0.1\n",
    "\n",
    "delay = 0.60\n",
    "b_audio = True\n",
    "b_video = True\n",
    "b_text  = True\n",
    "rise = 0.20\n",
    "\n",
    "\n",
    "for k in range(1):\n",
    "    print(\"Inside run_baseline.py\")\n",
    "    print(len(argv))\n",
    "#if len(argv)>1:\n",
    "     #delay = float(argv[1])\n",
    "#if len(argv)>2:    \n",
    "    #b_audio = bool(int(argv[2]))\n",
    "    #b_video = bool(int(argv[3]))\n",
    "    #b_text  = bool(int(argv[4]))\n",
    "\n",
    "    print(\"argv\")\n",
    "    print(argv)\n",
    "    print(\"delay\")\n",
    "    print(delay)\n",
    "\n",
    "    path_features = []\n",
    "    if b_audio:\n",
    "        path_features.append( path_audio_features )\n",
    "    if b_video:\n",
    "        path_features.append( path_video_features )\n",
    "    if b_text:\n",
    "        path_features.append( path_text_features )\n",
    "        \n",
    "\n",
    "    if not b_test_available and not os.path.exists(path_test_predictions):\n",
    "        os.mkdir(path_test_predictions)\n",
    "\n",
    "# Compensate the delay (quick solution)\n",
    "    shift = int(np.round(delay/sr_labels))\n",
    "    shift = np.ones(len(path_features),dtype=int)*shift\n",
    "\n",
    "\n",
    "\n",
    "    files_train = fnmatch.filter(os.listdir(path_features[0]), \"Train*\")  # Filenames are the same for audio, video, text & labels\n",
    "    files_devel = fnmatch.filter(os.listdir(path_features[0]), \"Devel*\")\n",
    "    files_test  = fnmatch.filter(os.listdir(path_features[0]), \"Test*\")\n",
    "\n",
    "\n",
    "\n",
    "    print(\"i am going\")\n",
    "    print(files_train)\n",
    "\n",
    "# Load features and labels\n",
    "    Train   = load_all( files_train, path_features, shift )\n",
    "    Devel   = load_all( files_devel, path_features, shift )\n",
    "    Train_L = load_all( files_train, [ path_labels ] )  # Labels are not shifted\n",
    "    Devel_L = load_all( files_devel, [ path_labels ] )\n"
   ]
  },
  {
   "cell_type": "markdown",
   "metadata": {},
   "source": [
    "# Windowing the timesteps"
   ]
  },
  {
   "cell_type": "code",
   "execution_count": 2,
   "metadata": {
    "collapsed": true
   },
   "outputs": [],
   "source": [
    "#windowing the dataset\n",
    "\n",
    "def create_data(dataset,look_back=1):\n",
    "    dataX = []\n",
    "    for i in range(len(dataset)-look_back+1):\n",
    "        a = dataset[i:i+look_back,:]\n",
    "        dataX.append(a)\n",
    "    return np.array(dataX)"
   ]
  },
  {
   "cell_type": "code",
   "execution_count": 3,
   "metadata": {
    "collapsed": true
   },
   "outputs": [],
   "source": [
    "look_back = 8\n",
    "TrainX = create_data(Train,look_back)"
   ]
  },
  {
   "cell_type": "code",
   "execution_count": 4,
   "metadata": {},
   "outputs": [
    {
     "data": {
      "text/plain": [
       "(56085, 8, 4521)"
      ]
     },
     "execution_count": 4,
     "metadata": {},
     "output_type": "execute_result"
    }
   ],
   "source": [
    "TrainX.shape"
   ]
  },
  {
   "cell_type": "code",
   "execution_count": 5,
   "metadata": {
    "collapsed": true
   },
   "outputs": [],
   "source": [
    "Train_LA = Train_L[look_back-1:,0]"
   ]
  },
  {
   "cell_type": "code",
   "execution_count": null,
   "metadata": {
    "collapsed": true
   },
   "outputs": [],
   "source": []
  },
  {
   "cell_type": "code",
   "execution_count": 6,
   "metadata": {
    "collapsed": true
   },
   "outputs": [],
   "source": [
    "Train_LV = Train_L[look_back-1:,1]\n",
    "\n"
   ]
  },
  {
   "cell_type": "code",
   "execution_count": 8,
   "metadata": {
    "collapsed": true
   },
   "outputs": [],
   "source": [
    "\n",
    "\n",
    "look_back = 8\n",
    "Devel_X = create_data(Devel,look_back)\n",
    "Devel_LA = Devel_L[look_back-1:,0]"
   ]
  },
  {
   "cell_type": "code",
   "execution_count": 9,
   "metadata": {
    "collapsed": true
   },
   "outputs": [],
   "source": [
    "Devel_LV = Devel_L[look_back-1:,1]"
   ]
  },
  {
   "cell_type": "markdown",
   "metadata": {},
   "source": [
    "# The Trainer"
   ]
  },
  {
   "cell_type": "code",
   "execution_count": 2,
   "metadata": {},
   "outputs": [
    {
     "ename": "NameError",
     "evalue": "name 'look_back' is not defined",
     "output_type": "error",
     "traceback": [
      "\u001b[1;31m---------------------------------------------------------------------------\u001b[0m",
      "\u001b[1;31mNameError\u001b[0m                                 Traceback (most recent call last)",
      "\u001b[1;32m<ipython-input-2-39fdcee27203>\u001b[0m in \u001b[0;36m<module>\u001b[1;34m()\u001b[0m\n\u001b[0;32m     25\u001b[0m \u001b[1;33m\u001b[0m\u001b[0m\n\u001b[0;32m     26\u001b[0m \u001b[1;33m\u001b[0m\u001b[0m\n\u001b[1;32m---> 27\u001b[1;33m \u001b[0minputs\u001b[0m \u001b[1;33m=\u001b[0m \u001b[0mInput\u001b[0m\u001b[1;33m(\u001b[0m\u001b[0mshape\u001b[0m \u001b[1;33m=\u001b[0m \u001b[1;33m(\u001b[0m\u001b[0mlook_back\u001b[0m\u001b[1;33m,\u001b[0m\u001b[1;36m4521\u001b[0m\u001b[1;33m)\u001b[0m\u001b[1;33m)\u001b[0m\u001b[1;33m\u001b[0m\u001b[0m\n\u001b[0m\u001b[0;32m     28\u001b[0m \u001b[0ms\u001b[0m \u001b[1;33m=\u001b[0m \u001b[0minputs\u001b[0m\u001b[1;33m\u001b[0m\u001b[0m\n\u001b[0;32m     29\u001b[0m \u001b[0ms1\u001b[0m \u001b[1;33m=\u001b[0m \u001b[0mLSTM\u001b[0m\u001b[1;33m(\u001b[0m\u001b[1;36m400\u001b[0m\u001b[1;33m,\u001b[0m\u001b[0minput_shape\u001b[0m\u001b[1;33m=\u001b[0m\u001b[1;33m(\u001b[0m\u001b[0mlook_back\u001b[0m\u001b[1;33m,\u001b[0m\u001b[1;36m4521\u001b[0m\u001b[1;33m)\u001b[0m\u001b[1;33m,\u001b[0m\u001b[0mgo_backwards\u001b[0m\u001b[1;33m=\u001b[0m\u001b[1;32mTrue\u001b[0m\u001b[1;33m,\u001b[0m\u001b[0mreturn_sequences\u001b[0m\u001b[1;33m=\u001b[0m \u001b[1;32mTrue\u001b[0m\u001b[1;33m,\u001b[0m \u001b[0mdropout\u001b[0m \u001b[1;33m=\u001b[0m \u001b[1;36m.7\u001b[0m\u001b[1;33m,\u001b[0m\u001b[0mbias_initializer\u001b[0m \u001b[1;33m=\u001b[0m \u001b[1;34m'ones'\u001b[0m\u001b[1;33m)\u001b[0m\u001b[1;33m(\u001b[0m\u001b[0ms\u001b[0m\u001b[1;33m)\u001b[0m\u001b[1;33m\u001b[0m\u001b[0m\n",
      "\u001b[1;31mNameError\u001b[0m: name 'look_back' is not defined"
     ]
    }
   ],
   "source": [
    "import tensorflow as tf\n",
    "from keras.models import Sequential\n",
    "from keras.layers.recurrent import LSTM\n",
    "from keras.layers.core import Dense,Activation,Dropout\n",
    "from keras.layers import TimeDistributed,Input\n",
    "from keras.layers import Bidirectional\n",
    "from keras.models import Model\n",
    "from keras.layers.merge import concatenate\n",
    "from keras import regularizers\n",
    "\n",
    "\n",
    "    \n",
    "inputs = Input(shape = (look_back,4521))\n",
    "s = inputs\n",
    "s1 = LSTM(400,input_shape=(look_back,4521),go_backwards=True,return_sequences= True, dropout = .7,bias_initializer = 'ones')(s)\n",
    "s2 = LSTM(200,input_shape=(look_back,4521),go_backwards=True,return_sequences=True,dropout = .6,bias_initializer = 'ones')(s1)\n",
    "s3 = LSTM(200,input_shape=(look_back,4521),go_backwards=True,return_sequences=True,dropout = .5)(s2)\n",
    "s4 = LSTM(200,input_shape=(look_back,4521),go_backwards=True,return_sequences=True,dropout = .5)(s3)\n",
    "\n",
    "\n",
    "\n",
    "s5 = LSTM(200,input_shape=(look_back,4521),go_backwards=True,dropout = .7)(s4)\n",
    "s6 = LSTM(200,input_shape=(look_back,4521),go_backwards=True,dropout = .7)(s4)\n",
    "\n",
    "output_1 = Dense(1,bias_initializer = 'ones')(s5)\n",
    "output_2 = Dense(1,bias_initializer = 'ones')(s6)\n",
    "\n",
    "model = Model(inputs=[inputs], outputs=[output_1,output_2])\n",
    "model.compile(optimizer='adam', loss='mse')\n",
    "model.summary()\n",
    "\n",
    "\n",
    "    \n",
    "    "
   ]
  },
  {
   "cell_type": "markdown",
   "metadata": {},
   "source": [
    "# Fitting the data"
   ]
  },
  {
   "cell_type": "code",
   "execution_count": 1,
   "metadata": {},
   "outputs": [
    {
     "name": "stderr",
     "output_type": "stream",
     "text": [
      "c:\\users\\abhijit\\anaconda3\\envs\\tensorflow-gpu\\lib\\site-packages\\h5py\\__init__.py:36: FutureWarning: Conversion of the second argument of issubdtype from `float` to `np.floating` is deprecated. In future, it will be treated as `np.float64 == np.dtype(float).type`.\n",
      "  from ._conv import register_converters as _register_converters\n",
      "Using TensorFlow backend.\n"
     ]
    },
    {
     "ename": "NameError",
     "evalue": "name 'model' is not defined",
     "output_type": "error",
     "traceback": [
      "\u001b[1;31m---------------------------------------------------------------------------\u001b[0m",
      "\u001b[1;31mNameError\u001b[0m                                 Traceback (most recent call last)",
      "\u001b[1;32m<ipython-input-1-b56b2334c103>\u001b[0m in \u001b[0;36m<module>\u001b[1;34m()\u001b[0m\n\u001b[0;32m      4\u001b[0m \u001b[0mcheckpointer\u001b[0m \u001b[1;33m=\u001b[0m \u001b[0mModelCheckpoint\u001b[0m\u001b[1;33m(\u001b[0m\u001b[1;34m'thesis_mult_task.h5'\u001b[0m\u001b[1;33m,\u001b[0m \u001b[0mverbose\u001b[0m\u001b[1;33m=\u001b[0m\u001b[1;36m1\u001b[0m\u001b[1;33m,\u001b[0m \u001b[0msave_best_only\u001b[0m\u001b[1;33m=\u001b[0m\u001b[1;32mTrue\u001b[0m\u001b[1;33m)\u001b[0m\u001b[1;33m\u001b[0m\u001b[0m\n\u001b[0;32m      5\u001b[0m \u001b[1;33m\u001b[0m\u001b[0m\n\u001b[1;32m----> 6\u001b[1;33m \u001b[0mresults\u001b[0m \u001b[1;33m=\u001b[0m \u001b[0mmodel\u001b[0m\u001b[1;33m.\u001b[0m\u001b[0mfit\u001b[0m\u001b[1;33m(\u001b[0m\u001b[0mTrainX\u001b[0m\u001b[1;33m,\u001b[0m\u001b[1;33m[\u001b[0m\u001b[0mTrain_LA\u001b[0m\u001b[1;33m,\u001b[0m\u001b[0mTrain_LV\u001b[0m\u001b[1;33m]\u001b[0m\u001b[1;33m,\u001b[0m\u001b[0mepochs\u001b[0m \u001b[1;33m=\u001b[0m \u001b[1;36m4\u001b[0m\u001b[1;33m,\u001b[0m\u001b[0mvalidation_split\u001b[0m\u001b[1;33m=\u001b[0m\u001b[1;36m0.2\u001b[0m\u001b[1;33m,\u001b[0m\u001b[0mcallbacks\u001b[0m\u001b[1;33m=\u001b[0m\u001b[1;33m[\u001b[0m\u001b[0mearlystopper\u001b[0m\u001b[1;33m,\u001b[0m \u001b[0mcheckpointer\u001b[0m\u001b[1;33m]\u001b[0m\u001b[1;33m)\u001b[0m\u001b[1;33m\u001b[0m\u001b[0m\n\u001b[0m",
      "\u001b[1;31mNameError\u001b[0m: name 'model' is not defined"
     ]
    }
   ],
   "source": [
    "from keras.callbacks import EarlyStopping, ModelCheckpoint\n",
    "\n",
    "earlystopper = EarlyStopping(patience=5, verbose=1)\n",
    "checkpointer = ModelCheckpoint('thesis_mult_task.h5', verbose=1, save_best_only=True)\n",
    "\n",
    "results = model.fit(TrainX,[Train_LA,Train_LV],epochs = 4,validation_split=0.2,callbacks=[earlystopper, checkpointer])\n"
   ]
  },
  {
   "cell_type": "code",
   "execution_count": 136,
   "metadata": {
    "collapsed": true
   },
   "outputs": [],
   "source": [
    "from keras.models import Model, load_model\n",
    "\n",
    "model = load_model('thesis_mult_task.h5')\n",
    "predA,predV = model.predict(Devel_X)"
   ]
  },
  {
   "cell_type": "markdown",
   "metadata": {
    "collapsed": true
   },
   "source": [
    "# Calculating CCC,PCC,RMSE"
   ]
  },
  {
   "cell_type": "code",
   "execution_count": 140,
   "metadata": {
    "collapsed": true
   },
   "outputs": [],
   "source": [
    "#calculating CCC PCC RMSE\n",
    "predA = predA.reshape(22720,)\n",
    "x = predA\n",
    "\n",
    "#x = a\n",
    "y = Devel_L[look_back-1:,1]\n",
    "x_mean = np.nanmean(x)\n",
    "y_mean = np.nanmean(y)\n",
    "\n",
    "#np.nanmean((x - x_mean) * (y - y_mean)) \n",
    "covariance = np.nanmean((x-x_mean)*(y-y_mean))\n",
    "    \n",
    "x_var = 1.0 / (len(x)-1) * np.nansum((x-x_mean)**2) # Make it consistent with Matlab's nanvar (division by len(x)-1, not len(x)))\n",
    "y_var = 1.0 / (len(y)-1) * np.nansum((y-y_mean)**2)\n",
    "    \n",
    "CCC = (2*covariance) / (x_var + y_var + (x_mean-y_mean)**2)\n",
    "\n",
    "x_std = np.sqrt(x_var)\n",
    "y_std = np.sqrt(y_var)\n",
    "PCC = covariance / (x_std * y_std)\n",
    "    \n",
    "RMSE = np.sqrt(np.nanmean((x - y)**2))"
   ]
  },
  {
   "cell_type": "code",
   "execution_count": 141,
   "metadata": {},
   "outputs": [
    {
     "data": {
      "text/plain": [
       "0.45762514985937663"
      ]
     },
     "execution_count": 141,
     "metadata": {},
     "output_type": "execute_result"
    }
   ],
   "source": [
    "CCC"
   ]
  },
  {
   "cell_type": "code",
   "execution_count": 142,
   "metadata": {},
   "outputs": [
    {
     "data": {
      "image/png": "[encoded data removed]",
      "text/plain": [
       "<Figure size 432x288 with 1 Axes>"
      ]
     },
     "metadata": {},
     "output_type": "display_data"
    }
   ],
   "source": [
    "import matplotlib.pyplot as plt\n",
    "plt.plot(predA[500:1500])\n",
    "plt.show()"
   ]
  },
  {
   "cell_type": "code",
   "execution_count": 65,
   "metadata": {},
   "outputs": [
    {
     "data": {
      "image/png": "[encoded data removed]",
      "text/plain": [
       "<Figure size 432x288 with 1 Axes>"
      ]
     },
     "metadata": {},
     "output_type": "display_data"
    }
   ],
   "source": [
    "plt.plot(y[500:1500,])\n",
    "plt.show()"
   ]
  },
  {
   "cell_type": "code",
   "execution_count": null,
   "metadata": {
    "collapsed": true
   },
   "outputs": [],
   "source": []
  },
  {
   "cell_type": "code",
   "execution_count": null,
   "metadata": {
    "collapsed": true
   },
   "outputs": [],
   "source": []
  }
 ],
 "metadata": {
  "kernelspec": {
   "display_name": "Python 3",
   "language": "python",
   "name": "python3"
  },
  "language_info": {
   "codemirror_mode": {
    "name": "ipython",
    "version": 3
   },
   "file_extension": ".py",
   "mimetype": "text/x-python",
   "name": "python",
   "nbconvert_exporter": "python",
   "pygments_lexer": "ipython3",
   "version": "3.6.3"
  }
 },
 "nbformat": 4,
 "nbformat_minor": 2
}
